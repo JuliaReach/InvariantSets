{
 "cells": [
  {
   "cell_type": "code",
   "execution_count": 20,
   "metadata": {},
   "outputs": [],
   "source": [
    "using InvariantSets\n",
    "using JuMP"
   ]
  },
  {
   "cell_type": "code",
   "execution_count": 21,
   "metadata": {},
   "outputs": [
    {
     "name": "stdout",
     "output_type": "stream",
     "text": [
      "Feasibility\n",
      "Subject to\n",
      " X[1,1] - 2 X[2,1] <= 1.0\n",
      " X[1,2] - 2 X[2,2] <= 1.0\n",
      " X[1,3] - 2 X[2,3] <= 1.0\n",
      " X[1,4] - 2 X[2,4] <= 1.0\n",
      " X[1,5] - 2 X[2,5] <= 1.0\n",
      " U[1,1] <= 2.0\n",
      " -U[1,1] <= 2.0\n",
      " U[1,2] <= 2.0\n",
      " -U[1,2] <= 2.0\n"
     ]
    }
   ],
   "source": [
    "m = Model()\n",
    "@variable(m, X[1:2, 1:5])\n",
    "@variable(m, U[1:1, 1:2]) # U[1,1:5] does not work\n",
    "constru= BallInf(zeros(size(U,1)), 2.0)\n",
    "constrx = HPolyhedron([1 -2], [1])\n",
    "InvariantSets.add_constraint!(m, X, constrx)\n",
    "InvariantSets.add_constraint!(m, U, constru)\n",
    "print(m)\n",
    "# m => why does it not display the model in latex?"
   ]
  },
  {
   "cell_type": "code",
   "execution_count": 22,
   "metadata": {},
   "outputs": [
    {
     "name": "stdout",
     "output_type": "stream",
     "text": [
      "Feasibility\n",
      "Subject to\n"
     ]
    }
   ],
   "source": [
    "m = Model()\n",
    "@variable(m, x[1:2, 1:10])\n",
    "@variable(m, z[1:2])\n",
    "constr = InvariantSets.Universe(2)\n",
    "InvariantSets.add_constraint!(m, z, constr)\n",
    "InvariantSets.add_constraint!(m, x[:,1:end], constr)\n",
    "print(m)"
   ]
  },
  {
   "cell_type": "code",
   "execution_count": 23,
   "metadata": {},
   "outputs": [
    {
     "name": "stdout",
     "output_type": "stream",
     "text": [
      "Feasibility\n",
      "Subject to\n",
      " z[1] == 0.0\n",
      " z[2] == 0.0\n",
      " x[1,8] == 1.0\n",
      " x[2,8] == -0.5\n",
      " x[1,9] == 1.0\n",
      " x[2,9] == -0.5\n",
      " x[1,10] == 1.0\n",
      " x[2,10] == -0.5\n"
     ]
    }
   ],
   "source": [
    "m = Model()\n",
    "@variable(m, x[1:2, 1:10])\n",
    "@variable(m, z[1:2])\n",
    "constr1 = [0., 0.]\n",
    "constr2 = [1.0, -0.5]\n",
    "InvariantSets.add_constraint!(m, z, constr1)\n",
    "InvariantSets.add_constraint!(m, x[:,end-2:end], constr2)\n",
    "print(m)"
   ]
  },
  {
   "cell_type": "code",
   "execution_count": 24,
   "metadata": {},
   "outputs": [
    {
     "name": "stdout",
     "output_type": "stream",
     "text": [
      "Feasibility\n",
      "Subject to\n",
      " z[1] == 1.0\n",
      " z[2] == 1.0\n",
      " x[1,9] == 1.0\n",
      " x[2,9] == 1.0\n",
      " x[1,10] == 1.0\n",
      " x[2,10] == 1.0\n",
      " x[1,9] == 1.0\n",
      " x[2,9] == 1.0\n",
      " x[1,10] == 1.0\n",
      " x[2,10] == 1.0\n"
     ]
    }
   ],
   "source": [
    "m = Model()\n",
    "@variable(m, x[1:2, 1:10])\n",
    "@variable(m, z[1:2])\n",
    "constr = Singleton([1,1])\n",
    "InvariantSets.add_constraint!(m, z, constr)\n",
    "InvariantSets.add_constraint!(m, x[:,end-1:end], constr)\n",
    "print(m)"
   ]
  },
  {
   "cell_type": "code",
   "execution_count": null,
   "metadata": {},
   "outputs": [],
   "source": []
  }
 ],
 "metadata": {
  "kernelspec": {
   "display_name": "Julia 1.4.1",
   "language": "julia",
   "name": "julia-1.4"
  },
  "language_info": {
   "file_extension": ".jl",
   "mimetype": "application/julia",
   "name": "julia",
   "version": "1.4.1"
  }
 },
 "nbformat": 4,
 "nbformat_minor": 4
}
