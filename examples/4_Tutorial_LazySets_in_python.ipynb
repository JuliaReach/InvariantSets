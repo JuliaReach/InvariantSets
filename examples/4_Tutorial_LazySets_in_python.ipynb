{
 "cells": [
  {
   "cell_type": "markdown",
   "metadata": {},
   "source": [
    "see https://github.com/JuliaPy/pyjulia\n",
    "\n",
    "In a Julia session install and build PyCall\n",
    "Install the julia Python package\n",
    "Remember to use Base for Julia functions, eg. Base.zeros, Base.rand\n",
    "```python\n",
    "$ python -m pip install --user julia\n",
    "\n",
    "$ python\n",
    "Python 3.7.4 (default, Jul 16 2019, 07:12:58) \n",
    "[GCC 9.1.0] on linux\n",
    "Type \"help\", \"copyright\", \"credits\" or \"license\" for more information.\n",
    ">>> import julia\n",
    ">>> julia.install() # only once\n",
    "\n",
    ">>> from julia import Base, LazySets \n",
    "\n",
    ">>> B = LazySets.BallInf(Base.zeros(2), 1.0)\n",
    "<PyCall.jlwrap LazySets.BallInf{Float64}([0.0, 0.0], 1.0)>\n",
    " \n",
    ">>> LazySets.support_function([1.0, 2.0], B)\n",
    " 3.0\n",
    "```"
   ]
  },
  {
   "cell_type": "code",
   "execution_count": null,
   "metadata": {},
   "outputs": [],
   "source": []
  }
 ],
 "metadata": {
  "kernelspec": {
   "display_name": "Python 3",
   "language": "python",
   "name": "python3"
  },
  "language_info": {
   "codemirror_mode": {
    "name": "ipython",
    "version": 3
   },
   "file_extension": ".py",
   "mimetype": "text/x-python",
   "name": "python",
   "nbconvert_exporter": "python",
   "pygments_lexer": "ipython3",
   "version": "3.7.6"
  }
 },
 "nbformat": 4,
 "nbformat_minor": 4
}
